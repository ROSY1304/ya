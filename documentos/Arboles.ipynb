from IPython.display import Image

# Muestra una imagen desde un archivo
Image("/home/rosy/Documentos/api/documentos/cap.png")
